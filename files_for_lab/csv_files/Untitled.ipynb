{
 "cells": [
  {
   "cell_type": "markdown",
   "id": "9bff04d4",
   "metadata": {},
   "source": [
    "# Show dataframe shape"
   ]
  },
  {
   "cell_type": "code",
   "execution_count": null,
   "id": "577822c0",
   "metadata": {},
   "outputs": [],
   "source": [
    "data.shape"
   ]
  },
  {
   "cell_type": "markdown",
   "id": "0aa90ec5",
   "metadata": {},
   "source": [
    "# Standardized Column Name"
   ]
  },
  {
   "cell_type": "markdown",
   "id": "c69fd640",
   "metadata": {},
   "source": [
    "# Find Numericak And Categorical Columns"
   ]
  },
  {
   "cell_type": "markdown",
   "id": "42af9a26",
   "metadata": {},
   "source": [
    "# Locating and Dealing with NaN values"
   ]
  },
  {
   "cell_type": "markdown",
   "id": "97d01fc2",
   "metadata": {},
   "source": [
    "# Claning Function"
   ]
  },
  {
   "cell_type": "markdown",
   "id": "5fb8453a",
   "metadata": {},
   "source": [
    "# Code To Bin Elements\n"
   ]
  },
  {
   "cell_type": "markdown",
   "id": "f0537218",
   "metadata": {},
   "source": [
    "# Code to to Spilite into cat and num"
   ]
  },
  {
   "cell_type": "markdown",
   "id": "95e15e88",
   "metadata": {},
   "source": [
    "# ignor warning"
   ]
  },
  {
   "cell_type": "markdown",
   "id": "2b707807",
   "metadata": {},
   "source": [
    "# Opening a zip file in Pythone"
   ]
  },
  {
   "cell_type": "markdown",
   "id": "5690c787",
   "metadata": {},
   "source": [
    "# Function to combined values in rows"
   ]
  },
  {
   "cell_type": "code",
   "execution_count": null,
   "id": "6589fc39",
   "metadata": {},
   "outputs": [],
   "source": [
    "code to snake column names"
   ]
  },
  {
   "cell_type": "code",
   "execution_count": null,
   "id": "84336112",
   "metadata": {},
   "outputs": [],
   "source": [
    "loop to plot multiple columns"
   ]
  },
  {
   "cell_type": "code",
   "execution_count": null,
   "id": "0c7888d5",
   "metadata": {},
   "outputs": [],
   "source": [
    "correlation and heatmaps"
   ]
  },
  {
   "cell_type": "code",
   "execution_count": null,
   "id": "ccaae93e",
   "metadata": {},
   "outputs": [],
   "source": []
  }
 ],
 "metadata": {
  "kernelspec": {
   "display_name": "Python 3 (ipykernel)",
   "language": "python",
   "name": "python3"
  },
  "language_info": {
   "codemirror_mode": {
    "name": "ipython",
    "version": 3
   },
   "file_extension": ".py",
   "mimetype": "text/x-python",
   "name": "python",
   "nbconvert_exporter": "python",
   "pygments_lexer": "ipython3",
   "version": "3.9.12"
  }
 },
 "nbformat": 4,
 "nbformat_minor": 5
}
